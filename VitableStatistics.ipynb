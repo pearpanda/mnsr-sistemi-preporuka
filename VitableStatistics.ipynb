{
  "metadata": {
    "language_info": {
      "codemirror_mode": {
        "name": "python",
        "version": 3
      },
      "file_extension": ".py",
      "mimetype": "text/x-python",
      "name": "python",
      "nbconvert_exporter": "python",
      "pygments_lexer": "ipython3",
      "version": "3.8"
    },
    "kernelspec": {
      "name": "python",
      "display_name": "Python (Pyodide)",
      "language": "python"
    }
  },
  "nbformat_minor": 4,
  "nbformat": 4,
  "cells": [
    {
      "cell_type": "markdown",
      "source": "# Kod za izračunavanje statistika kompanije Vitable\n\nViše o Vitable: https://www.vitable.com.au/",
      "metadata": {}
    },
    {
      "cell_type": "code",
      "source": "from statistics import mean \nimport pandas as pd \n\n# from https://www.vitable.com.au/products\n\nvitamins = [9, 9, 9, 12, 14]\nminerals = [11, 14, 11, 14]\nherbs = [18, 16, 16, 16]\nprobiotics = [17, 15]\nspecialty = [12, 18, 12.5, 26, 12]\nspecialty_all = [12, 18, 12.5, 19, 26, 12]\n\nprices_a = []\nprices_na = []\n\n# Calculate prices for each basket comination, with and without Astaxanthin\n\nfor v in vitamins:\n    for m in minerals:\n        for h in herbs:\n            for p in probiotics:\n                total_a = v+m+h+p+19\n                prices_a.append([total_a, v/total_a*100, m/total_a*100, h/total_a*100, p/total_a*100, 19/total_a*100,])\n                for s in specialty:\n                    total_na = v+m+h+p+s\n                    prices_na.append([total_na, v/total_na*100, m/total_na*100, h/total_na*100, p/total_na*100, s/total_na*100])\n                    \n\n# put data in dataframes for easier manipulation\n\ndf_a = pd.DataFrame(prices_a, columns = ['Total price', 'Vitamin %', 'Mineral %', 'Herb %', 'Probiotic %', 'Astaxanthin %']) \ndf_na = pd.DataFrame(prices_na, columns = ['Total price', 'Vitamin %', 'Mineral %', 'Herb %', 'Probiotic %', 'Specialty, w/out Astaxanthin %']) \n\nmean_basket_a = [ df_a['Vitamin %'].mean(), df_a['Mineral %'].mean(), \n               df_a['Herb %'].mean(), df_a['Probiotic %'].mean(), df_a['Astaxanthin %'].mean()]\n\nmean_basket_na = [ df_na['Vitamin %'].mean(), df_na['Mineral %'].mean(), \n               df_na['Herb %'].mean(), df_na['Probiotic %'].mean(), df_na['Specialty, w/out Astaxanthin %'].mean()]\n\n# print results\n\nprint(f\"Average price for suplement category\")\nprint(f\"--Average price for vitamins is {mean(vitamins)}\")\nprint(f\"--Average price for minerals is {mean(minerals)}\")\nprint(f\"--Average price for herbs is {mean(herbs)}\")\nprint(f\"--Average price for probiotics is {mean(probiotics)}\")\nprint(f\"--Average price for specialty is {mean(specialty_all)}\")\n\nprint(f\"Average total price for basket with Astaxanthin is {df_a['Total price'].mean()}\")\nprint(f\"--Average Vitamin % {mean_basket_a[0]}\")\nprint(f\"--Average Mineral % {mean_basket_a[1]}\")\nprint(f\"--Average Herb % {mean_basket_a[2]}\")\nprint(f\"--Average Probiotic % {mean_basket_a[3]}\")\nprint(f\"--Average Astaxanthin % {mean_basket_a[4]}\")\n\nprint(f\"Average total price for basket without Astaxanthin is {df_na['Total price'].mean()}\")\nprint(f\"--Average Vitamin % {mean_basket_na[0]}\")\nprint(f\"--Average Mineral % {mean_basket_na[1]}\")\nprint(f\"--Average Herb % {mean_basket_na[2]}\")\nprint(f\"--Average Probiotic % {mean_basket_na[3]}\")\nprint(f\"--Average Specialty, w/out Astaxanthin % {mean_basket_na[4]}\")",
      "metadata": {
        "trusted": true
      },
      "execution_count": 2,
      "outputs": [
        {
          "name": "stdout",
          "text": "Average price for suplement category\n--Average price for vitamins is 10.6\n--Average price for minerals is 12.5\n--Average price for herbs is 16.5\n--Average price for probiotics is 16\n--Average price for specialty is 16.583333333333332\nAverage total price for basket with Astaxanthin is 74.6\n--Average Vitamin % 14.154988679205394\n--Average Mineral % 16.740085200945693\n--Average Herb % 22.137118838345508\n--Average Probiotic % 21.461203644376454\n--Average Astaxanthin % 25.506603637126958\nAverage total price for basket without Astaxanthin is 71.7\n--Average Vitamin % 14.805547099540144\n--Average Mineral % 17.51194555842039\n--Average Herb % 23.160014495019606\n--Average Probiotic % 22.452581091397704\n--Average Specialty, w/out Astaxanthin % 22.06991175562215\n",
          "output_type": "stream"
        }
      ]
    }
  ]
}